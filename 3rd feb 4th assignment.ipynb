{
 "cells": [
  {
   "cell_type": "code",
   "execution_count": 21,
   "id": "86727fbb-6460-45f6-b129-6c637a4cbc0c",
   "metadata": {},
   "outputs": [
    {
     "data": {
      "text/plain": [
       "[1, 3, 5, 7, 9, 11, 13, 15, 17, 19, 21, 23, 25]"
      ]
     },
     "execution_count": 21,
     "metadata": {},
     "output_type": "execute_result"
    }
   ],
   "source": [
    "#1\n",
    "# Def is the keyword is used to create function in python\n",
    "l1=[]\n",
    "def odd():\n",
    "    for i in range(1,26):\n",
    "        if i%2==1:\n",
    "            l1.append(i)\n",
    "    return l1\n",
    "odd()\n",
    "        \n",
    "    "
   ]
  },
  {
   "cell_type": "code",
   "execution_count": 27,
   "id": "c2da1a96-e6a6-47cf-95c9-aaff77384939",
   "metadata": {},
   "outputs": [],
   "source": [
    "#2\n",
    "# args is used for requirement of positional argument as input\n",
    "# kwargs is used for keyword argument as input\n",
    "\n",
    "def numbers(n):\n",
    "    print(n)\n",
    "    # here n is positional argument\n",
    "def calculator(n,m=10):\n",
    "    c=n*m\n",
    "    return c\n",
    "    # here m is keyword argument\n"
   ]
  },
  {
   "cell_type": "code",
   "execution_count": 68,
   "id": "7d5a070f-06e9-41dd-aa11-aa4329ba9b78",
   "metadata": {},
   "outputs": [
    {
     "name": "stdout",
     "output_type": "stream",
     "text": [
      "2\n",
      "4\n",
      "6\n",
      "8\n",
      "10\n"
     ]
    }
   ],
   "source": [
    "#3\n",
    "# An iterator is a object that contains a countable number of values and \n",
    "# it is used to iterate over iterables like lists,tuples,string.\n",
    "# To create an object/class as an iterator you have to implement \n",
    "# the methods __iter__() and __next__() to your object.\n",
    "l=[2,4,6,8,10,12,14,16,18,20]\n",
    "n=5\n",
    "import itertools\n",
    "for item in itertools.islice(l,n):\n",
    "    print(item)"
   ]
  },
  {
   "cell_type": "code",
   "execution_count": 76,
   "id": "b94026d0-5869-48e4-b2ac-80580760f724",
   "metadata": {},
   "outputs": [
    {
     "data": {
      "text/plain": [
       "'def simple():\\n    for i in range(10):\\n        if(i%2==0):\\n            yield i    \\nfor i in simple():  \\n    print(i)'"
      ]
     },
     "execution_count": 76,
     "metadata": {},
     "output_type": "execute_result"
    }
   ],
   "source": [
    "#4\n",
    "# A generator is a function that returns an iterator that produces a \n",
    "# sequence of values when iterated over.\n",
    "# yield keyword is used to create a generator function . A type of function that is memory efficient\n",
    "# and can be used like an iterator object. \n",
    "# In layman terms, the yield keyword will turn any expression that is given with it into a generator object and\n",
    "# return it to the caller.\n",
    "# Example:\n",
    "'''def simple():\n",
    "    for i in range(10):\n",
    "        if(i%2==0):\n",
    "            yield i    \n",
    "for i in simple():  \n",
    "    print(i)'''  "
   ]
  },
  {
   "cell_type": "code",
   "execution_count": 42,
   "id": "2154c643-eadd-425c-8c3c-98b5ee0201b3",
   "metadata": {},
   "outputs": [
    {
     "name": "stdout",
     "output_type": "stream",
     "text": [
      "2\n",
      "3\n",
      "5\n",
      "7\n",
      "11\n",
      "13\n",
      "17\n",
      "19\n",
      "23\n",
      "29\n",
      "31\n",
      "37\n",
      "41\n",
      "43\n",
      "47\n",
      "53\n",
      "59\n",
      "61\n",
      "67\n",
      "71\n"
     ]
    }
   ],
   "source": [
    "#5\n",
    "def prime_numbers():\n",
    "    prime=2\n",
    "    while prime<1000:\n",
    "        is_prime=True\n",
    "        for i in range(2,prime):\n",
    "            if (prime%i)==0:\n",
    "                is_prime=False\n",
    "                break\n",
    "        if is_prime:\n",
    "            yield prime\n",
    "        prime+=1\n",
    "c=prime_numbers()\n",
    "for i in range(20):\n",
    "    print(next(c))"
   ]
  },
  {
   "cell_type": "code",
   "execution_count": 50,
   "id": "14a3fe7a-a26e-409e-a2fc-533b762f9ddf",
   "metadata": {},
   "outputs": [
    {
     "name": "stdout",
     "output_type": "stream",
     "text": [
      "0\n",
      "1\n",
      "1\n",
      "2\n",
      "3\n",
      "5\n",
      "8\n",
      "13\n",
      "21\n",
      "34\n"
     ]
    }
   ],
   "source": [
    "#6\n",
    "a,b=0,1\n",
    "i=0\n",
    "while i<10:\n",
    "    print(a)\n",
    "    a,b=b,a+b\n",
    "    i=i+1"
   ]
  },
  {
   "cell_type": "code",
   "execution_count": 58,
   "id": "70a8de0d-7a34-43fd-966a-dbd948aaa702",
   "metadata": {},
   "outputs": [
    {
     "data": {
      "text/plain": [
       "['p', 'w', 's', 'k', 'i', 'l', 'l', 's']"
      ]
     },
     "execution_count": 58,
     "metadata": {},
     "output_type": "execute_result"
    }
   ],
   "source": [
    "#7\n",
    "string='pwskills'\n",
    "[ i for i in string]"
   ]
  },
  {
   "cell_type": "code",
   "execution_count": 65,
   "id": "c60c1db8-c3eb-439a-bbed-e4417db92746",
   "metadata": {},
   "outputs": [
    {
     "name": "stdin",
     "output_type": "stream",
     "text": [
      "Enter a number:  12345\n"
     ]
    },
    {
     "name": "stdout",
     "output_type": "stream",
     "text": [
      "12345 is not a palindrome number\n"
     ]
    }
   ],
   "source": [
    "#8\n",
    "num = int(input(\"Enter a number: \"))\n",
    "temp = num\n",
    "rev = 0\n",
    "while temp > 0:\n",
    "    digit = temp % 10\n",
    "    rev = rev * 10 + digit\n",
    "    temp = temp // 10\n",
    "if num == rev:\n",
    "    print(num, \"is a palindrome number\")\n",
    "else:\n",
    "    print(num, \"is not a palindrome number\")\n"
   ]
  },
  {
   "cell_type": "code",
   "execution_count": 74,
   "id": "73e1a49c-46d1-433f-a51d-63f9b195f87d",
   "metadata": {},
   "outputs": [
    {
     "name": "stdout",
     "output_type": "stream",
     "text": [
      "[1, 3, 5, 7, 9, 11, 13, 15, 17, 19, 21, 23, 25, 27, 29, 31, 33, 35, 37, 39, 41, 43, 45, 47, 49, 51, 53, 55, 57, 59, 61, 63, 65, 67, 69, 71, 73, 75, 77, 79, 81, 83, 85, 87, 89, 91, 93, 95, 97, 99]"
     ]
    }
   ],
   "source": [
    "#9\n",
    "l=[i for i in range(1,101)]\n",
    "f=[i for i in l if i%2==1]\n",
    "print(f,end='')"
   ]
  },
  {
   "cell_type": "code",
   "execution_count": null,
   "id": "247c9a66-332d-4635-8942-e6cd08a49fc2",
   "metadata": {},
   "outputs": [],
   "source": []
  }
 ],
 "metadata": {
  "kernelspec": {
   "display_name": "Python 3 (ipykernel)",
   "language": "python",
   "name": "python3"
  },
  "language_info": {
   "codemirror_mode": {
    "name": "ipython",
    "version": 3
   },
   "file_extension": ".py",
   "mimetype": "text/x-python",
   "name": "python",
   "nbconvert_exporter": "python",
   "pygments_lexer": "ipython3",
   "version": "3.10.8"
  }
 },
 "nbformat": 4,
 "nbformat_minor": 5
}
