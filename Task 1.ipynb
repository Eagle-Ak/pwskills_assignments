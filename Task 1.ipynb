{
 "cells": [
  {
   "cell_type": "raw",
   "id": "4bdf2697-0e7f-40d8-b6e7-75e8663df351",
   "metadata": {},
   "source": [
    "Q1. Create a function which will take a list as an argument and return the product of all the numbers after creating a flat list.\n",
    "\n",
    "Use the below-given list as an argument for your function.\n",
    "\n",
    "list1 = [1,2,3,4, [44,55,66, True], False, (34,56,78,89,34), {1,2,3,3,2,1}, {1:34, \"key2\": [55, 67, 78, 89], 4: (45, 22, 61, 34)}, [56, 'data science'], 'Machine Learning']\n",
    "\n",
    "Note: you must extract numeric keys and values of the dictionary also."
   ]
  },
  {
   "cell_type": "code",
   "execution_count": 26,
   "id": "8c563c42-b72d-4064-ae8e-4a4cedaaaefb",
   "metadata": {},
   "outputs": [],
   "source": [
    "from functools import reduce\n",
    "def product(lst):\n",
    "    l1=[]\n",
    "    for i in lst:\n",
    "        if type(i)==list or type(i)==tuple or type(i)==set:\n",
    "            for j in i:\n",
    "                if type(j)==int or type(j)==float:\n",
    "                    l1.append(j)\n",
    "        elif type(i)==dict:\n",
    "            for a in i.keys():\n",
    "                if type(a)==int:\n",
    "                    l1.append(a)\n",
    "            for b in i.values():\n",
    "                if type(b)==int:\n",
    "                    l1.append(b)\n",
    "                if type(b)==list or type(b)==tuple:\n",
    "                    for c in b:\n",
    "                        if type(c)==int:\n",
    "                            l1.append(c)\n",
    "        else:\n",
    "            if type(i)==int:\n",
    "                l1.append(i)\n",
    "    return reduce(lambda x,y:x*y,l1)\n",
    "                            "
   ]
  },
  {
   "cell_type": "code",
   "execution_count": 27,
   "id": "15f2779f-475e-452c-820a-07b80f41afc7",
   "metadata": {},
   "outputs": [],
   "source": [
    "list1 = [1,2,3,4, [44,55,66, True], False, (34,56,78,89,34), {1,2,3,3,2,1}, {1:34, \"key2\": [55, 67, 78, 89], 4: (45, 22, 61, 34)}, [56, 'data science'], 'Machine Learning']\n"
   ]
  },
  {
   "cell_type": "code",
   "execution_count": 28,
   "id": "b4f8cbe7-fa22-4834-b067-fd92cc60afc9",
   "metadata": {},
   "outputs": [
    {
     "name": "stdout",
     "output_type": "stream",
     "text": [
      "4134711838987085478833841242112000\n"
     ]
    }
   ],
   "source": [
    "print(product(list1))"
   ]
  },
  {
   "cell_type": "raw",
   "id": "60cd0d8e-e45f-4fa7-b8b0-07d552a958d9",
   "metadata": {},
   "source": [
    "Q2. Write a python program for encrypting a message sent to you by your friend. The logic of encryption should be such that, for a the output should be z. For b, the output should be y. For c, the output should be x respectively. Also, the whitespace should be replaced with a dollar sign. Keep the punctuation marks unchanged.\n",
    "\n",
    "Input Sentence: I want to become a Data Scientist.\n",
    "\n",
    "Encrypt the above input sentence using the program you just created.\n",
    "\n",
    "Note: Convert the given input sentence into lowercase before encrypting. The final output should be lowercase."
   ]
  },
  {
   "cell_type": "code",
   "execution_count": 31,
   "id": "5a4834e3-a10c-4542-8928-28a46b7cfeb0",
   "metadata": {},
   "outputs": [
    {
     "name": "stdout",
     "output_type": "stream",
     "text": [
      "r$wznt$to$yvxonv$z$wztz$sxrvntrst.\n"
     ]
    }
   ],
   "source": [
    "string=\"I want to become a Data Scientist.\"\n",
    "lower_case=string.lower()\n",
    "encrypted=lower_case.replace('a','z').replace('b','y').replace('c','x').replace('d','w').replace('e','v').replace('f','u').replace('g','t').replace('h','s').replace('i','r').replace('j','q').replace('k','p').replace('l','o').replace('m','n').replace(' ','$')\n",
    "print(encrypted)"
   ]
  },
  {
   "cell_type": "code",
   "execution_count": null,
   "id": "5a23dc2f-66b7-40d9-af9d-959c21dcd2dc",
   "metadata": {},
   "outputs": [],
   "source": []
  }
 ],
 "metadata": {
  "kernelspec": {
   "display_name": "Python 3 (ipykernel)",
   "language": "python",
   "name": "python3"
  },
  "language_info": {
   "codemirror_mode": {
    "name": "ipython",
    "version": 3
   },
   "file_extension": ".py",
   "mimetype": "text/x-python",
   "name": "python",
   "nbconvert_exporter": "python",
   "pygments_lexer": "ipython3",
   "version": "3.10.8"
  }
 },
 "nbformat": 4,
 "nbformat_minor": 5
}
