{
 "cells": [
  {
   "cell_type": "markdown",
   "id": "f642d42b-cb68-400a-a36a-3c5e1b7af8ce",
   "metadata": {},
   "source": [
    "#1 - For loop: A for loop is a control flow statement that executes code repeatedly for a particular number of iterations. In this control flow statement, the keyword used is for. The for loop is used when the number of iterations is already known'''\n",
    "### Example_1\n",
    "### n = [1, 2, 3]  # Initialization\n",
    "### for i in n:  # Condition and Updation\n",
    "### print(i)\n",
    "- While loop: A loop that executes a single statement or a group of statements for the given true condition. The keyword used to represent this loop is \"while\". A \"while\" loop is used when the number of iterations is unknown. The statement repeats itself till the boolean value becomes false.'''\n",
    "### Example_2\n",
    "### i = 1  # Initialization\n",
    "### while i < 6:  # Condition\n",
    "### print(i)\n",
    "### i += 1  # Updation -->\n"
   ]
  },
  {
   "cell_type": "code",
   "execution_count": 4,
   "id": "64f0127c-868f-43b4-8eb4-07e182161dde",
   "metadata": {},
   "outputs": [
    {
     "name": "stdout",
     "output_type": "stream",
     "text": [
      "sum of first ten natural numbers is:  55\n",
      "product of first ten natural numbers is:  3628800\n",
      "The sum of first ten natural numbers are 55\n",
      "The product of first ten natural numbers are 3628800\n"
     ]
    }
   ],
   "source": [
    "#2\n",
    "# For Loop\n",
    "sum=0\n",
    "product=1\n",
    "for i in range(1,11):\n",
    "    sum=sum+i\n",
    "    product=product*i\n",
    "print(\"sum of first ten natural numbers is: \",sum)\n",
    "print(\"product of first ten natural numbers is: \",product)\n",
    "# While loop\n",
    "i=1\n",
    "j=1\n",
    "sum=0\n",
    "product=1\n",
    "while i and j<=10:\n",
    "    sum=sum+i\n",
    "    product=product*j\n",
    "    i=i+1\n",
    "    j=j+1\n",
    "print(\"The sum of first ten natural numbers are\",sum)\n",
    "print(\"The product of first ten natural numbers are\",product)"
   ]
  },
  {
   "cell_type": "code",
   "execution_count": 52,
   "id": "b28e874d-3b80-4f03-b760-cbacbe21c58d",
   "metadata": {},
   "outputs": [
    {
     "name": "stdin",
     "output_type": "stream",
     "text": [
      "enter your units per month 315\n"
     ]
    },
    {
     "name": "stdout",
     "output_type": "stream",
     "text": [
      "your electricity bill is:  6300 Rupees\n"
     ]
    }
   ],
   "source": [
    "#3 electricity bill program\n",
    "units=int(input(\"enter your units per month\"))\n",
    "if units<=100:\n",
    "              print(\"your electricity bill is: \",units*4.5,\"Rupees\")\n",
    "elif units>100 and units<=200:\n",
    "              print(\"your electricity bill is: \",units*6,\"Rupees\")\n",
    "elif units>200 and units<=300:\n",
    "              print(\"your electricity bill is: \",units*10,\"Rupees\")\n",
    "elif units==310:\n",
    "                print(\"your electricity bill is: \",2250,\"Rupees\")\n",
    "elif units>300:\n",
    "              print(\"your electricity bill is: \",units*20,\"Rupees\")"
   ]
  },
  {
   "cell_type": "code",
   "execution_count": 1,
   "id": "1f6e1d9f-796a-4d38-9c16-2ee257106f42",
   "metadata": {},
   "outputs": [
    {
     "name": "stdout",
     "output_type": "stream",
     "text": [
      "[3, 6, 7, 9, 11, 12, 15, 19, 23, 26, 27, 29, 31, 32, 35, 39, 43, 46, 47, 49, 51, 52, 55, 59, 63, 66, 67, 69, 71, 72, 75, 79, 83, 86, 87, 89, 91, 92, 95, 99]\n"
     ]
    }
   ],
   "source": [
    "#4\n",
    "l1=[]\n",
    "for i in range(1,101):\n",
    "    if (i^3)%4==0 or (i^3)%5==0:\n",
    "        l1.append(i)\n",
    "print(l1)"
   ]
  },
  {
   "cell_type": "code",
   "execution_count": 2,
   "id": "78750198-44f0-4457-9220-4213569dd1d2",
   "metadata": {},
   "outputs": [
    {
     "data": {
      "text/plain": [
       "40"
      ]
     },
     "execution_count": 2,
     "metadata": {},
     "output_type": "execute_result"
    }
   ],
   "source": [
    "len(l1)"
   ]
  },
  {
   "cell_type": "code",
   "execution_count": 82,
   "id": "61c193bd-5890-4952-a69d-55ecfc9331a0",
   "metadata": {},
   "outputs": [
    {
     "name": "stdout",
     "output_type": "stream",
     "text": [
      "[3, 6, 7, 9, 11, 12, 15, 19, 23, 26, 27, 29, 31, 32, 35, 39, 43, 46, 47, 49, 51, 52, 55, 59, 63, 66, 67, 69, 71, 72, 75, 79, 83, 86, 87, 89, 91, 92, 95, 99]\n"
     ]
    }
   ],
   "source": [
    "#4\n",
    "l2=[]\n",
    "a=1\n",
    "while a<=100:\n",
    "    if (a^3)%4==0 or (a^3)%5==0:\n",
    "        l2.append(a)\n",
    "    a=a+1\n",
    "print(l2)"
   ]
  },
  {
   "cell_type": "code",
   "execution_count": 65,
   "id": "af65b986-78b0-4495-a7e1-47e12fdfcac0",
   "metadata": {},
   "outputs": [
    {
     "name": "stdout",
     "output_type": "stream",
     "text": [
      "6\n"
     ]
    }
   ],
   "source": [
    "#5\n",
    "string=(\"Mohammed Abbas Khan\")\n",
    "count=0\n",
    "vowel=['a','e','i','o','u','A','E','I','O','U']\n",
    "string=string.lower()\n",
    "for a in string:\n",
    "    if a in vowel:\n",
    "        count=count+1\n",
    "print(count)"
   ]
  },
  {
   "cell_type": "code",
   "execution_count": null,
   "id": "8048a882-90d9-44f3-9fb0-e5e56bb7bebb",
   "metadata": {},
   "outputs": [],
   "source": []
  },
  {
   "cell_type": "code",
   "execution_count": null,
   "id": "0cd9ad40-343b-46bc-8dca-e0e7cf2338ae",
   "metadata": {},
   "outputs": [],
   "source": []
  }
 ],
 "metadata": {
  "kernelspec": {
   "display_name": "Python 3 (ipykernel)",
   "language": "python",
   "name": "python3"
  },
  "language_info": {
   "codemirror_mode": {
    "name": "ipython",
    "version": 3
   },
   "file_extension": ".py",
   "mimetype": "text/x-python",
   "name": "python",
   "nbconvert_exporter": "python",
   "pygments_lexer": "ipython3",
   "version": "3.10.8"
  }
 },
 "nbformat": 4,
 "nbformat_minor": 5
}
