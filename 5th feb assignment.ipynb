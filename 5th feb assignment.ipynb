{
 "cells": [
  {
   "cell_type": "code",
   "execution_count": 19,
   "id": "fec7f029-2aa8-4d61-9acb-fc24abf7a8f5",
   "metadata": {},
   "outputs": [
    {
     "data": {
      "text/plain": [
       "'class student:  # Here student is a class\\n    def __init__(self,a,b):  \\n        self.a=a\\n        self.b=b\\n    def ret(self):\\n        return self.a+self.b\\nak=student(5,4) # Here ak is object,instance or variable\\nak.ret()'"
      ]
     },
     "execution_count": 19,
     "metadata": {},
     "output_type": "execute_result"
    }
   ],
   "source": [
    "# 1. Class is a classification of data or a user defined data types that act as a blueprint for individual objects,attributes and methods.\n",
    "# 2. Objects are instances or variables of a class created with specifically defined data. objects can correspond to real-world objects or an abstract entity.\n",
    "# example:\n",
    "'''class student:  # Here student is a class\n",
    "    def __init__(self,a,b):  \n",
    "        self.a=a\n",
    "        self.b=b\n",
    "    def ret(self):\n",
    "        return self.a+self.b\n",
    "ak=student(5,4) # Here ak is object,instance or variable\n",
    "ak.ret()'''\n"
   ]
  },
  {
   "cell_type": "raw",
   "id": "8295bbb5-a5a6-41e9-aa0d-8423e3b3efac",
   "metadata": {},
   "source": [
    "#2. Four pillars of OOPS\n",
    "# 1. Abstraction\n",
    "# 2. Encapsulation\n",
    "# 3. Inheritance\n",
    "# 4. Polymorphism"
   ]
  },
  {
   "cell_type": "raw",
   "id": "6466688c-1e6b-4e10-a57f-7d4b9e802f51",
   "metadata": {},
   "source": [
    "#3. __init__() it is a function use to pass data into a class to perfom specific tasks using different methods or functions.\n",
    "# Example\n",
    "'''class student:  # Here student is a class\n",
    "    def __init__(self,a,b):  \n",
    "        self.a=a\n",
    "        self.b=b\n",
    "    def ret(self):\n",
    "        return self.a+self.b\n",
    "ak=student(5,4) # Here ak is object,instance or variable\n",
    "ak.ret()'''"
   ]
  },
  {
   "cell_type": "code",
   "execution_count": 21,
   "id": "0e41e24b-61c9-4d6f-9549-78a5d4630db7",
   "metadata": {},
   "outputs": [],
   "source": [
    "#4. Self is use as a pointer in oops to perform methods in ordered \n",
    "# also we can use different names instead of self."
   ]
  },
  {
   "cell_type": "raw",
   "id": "7e618c53-030f-407b-a094-41586dcddd5e",
   "metadata": {},
   "source": [
    "### 5. Inheritance allows us to define a class that inherits all the methods and properties from another class.\n",
    "### Parent class is the class being inherited from, also called base class.\n",
    "### Child class is the class that inherits from another class, also called derived class.\n",
    "###  There are five types of inheritance in python programming:\n",
    "\n",
    "### 1). Single inheritance\n",
    "### 2). Multiple inheritances\n",
    "### 3). Multilevel inheritance\n",
    "### 4). Hierarchical inheritance\n",
    "### 5). Hybrid inheritance\n",
    "### 1. '''Syntax of single inheritance:\n",
    "\n",
    "### syntax_of_single_inheritance\n",
    "\n",
    "### class class1:               #parent_class\n",
    "###     pass\n",
    "\n",
    "### class class2(class1):       #child_class\n",
    "###     pass\n",
    "\n",
    "### obj_name = class2()'''\n",
    "\n",
    "\n",
    "\n",
    "### '''2. Syntax of multiple inheritance:\n",
    "\n",
    "### syntax_of_multiple_inheritance\n",
    "\n",
    "### class parent_1:\n",
    "###     pass\n",
    "\n",
    "### class parent_2:\n",
    "###     pass\n",
    "\n",
    "### class child(parent_1,parent_2):\n",
    "###     pass\n",
    "\n",
    "### obj = child()'''\n",
    "### 3.''' Syntax of multilevel inheritance:\n",
    "\n",
    "### Syntax_of_multilevel_inheritance\n",
    "\n",
    "### class A:\n",
    "###     pass\n",
    "\n",
    "### class B(A):\n",
    "#     pass\n",
    "\n",
    "# class C(B):\n",
    "#     pass\n",
    "\n",
    "# obj = C()'''\n",
    "# 4. '''#syntax_of_hierarchical_inheritance\n",
    "\n",
    "# class A:                  #parent_class\n",
    "#     pass\n",
    "    \n",
    "# class B(A):               #child_class\n",
    "#     pass\n",
    "\n",
    "# class C(A):               #child_class\n",
    "#     pass\n",
    "\n",
    "# class D(A):               #child_class\n",
    "#     pass\n",
    "\n",
    "# obj_1 = B()       #Object_creation\n",
    "# obj_2 = C()\n",
    "# obj_3 = D()'''\n",
    "# 5. '''#Syntax_Hybrid_inheritance\n",
    "\n",
    "# class PC: \n",
    "# \tpass\n",
    "\t\n",
    "# class Laptop(PC): \n",
    "# \tpass\n",
    "\t\n",
    "# class Mouse(Laptop): \n",
    "# \tpass\n",
    "\t\n",
    "# class Student3(Mouse, Laptop): \n",
    "# \tpass\n",
    "\t\n",
    "# # Driver's code \n",
    "# obj = Student3()'''"
   ]
  },
  {
   "cell_type": "code",
   "execution_count": null,
   "id": "7bd9ae68-aae1-4683-92c6-d91be93801e4",
   "metadata": {},
   "outputs": [],
   "source": []
  }
 ],
 "metadata": {
  "kernelspec": {
   "display_name": "Python 3 (ipykernel)",
   "language": "python",
   "name": "python3"
  },
  "language_info": {
   "codemirror_mode": {
    "name": "ipython",
    "version": 3
   },
   "file_extension": ".py",
   "mimetype": "text/x-python",
   "name": "python",
   "nbconvert_exporter": "python",
   "pygments_lexer": "ipython3",
   "version": "3.10.8"
  }
 },
 "nbformat": 4,
 "nbformat_minor": 5
}
