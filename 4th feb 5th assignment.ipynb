{
 "cells": [
  {
   "cell_type": "code",
   "execution_count": 1,
   "id": "df2a7691-1bfa-4dcf-85e1-b0ca80149273",
   "metadata": {},
   "outputs": [],
   "source": [
    "#1\n",
    "my_list=[('Sachin Tendulkar', 34357), ('Ricky Ponting', 27483), ('Jack Kallis', 25534), ('Virat Kohli', 24936)]\n",
    "sorted_list = sorted(my_list,key=lambda x: x[1])\n",
    "\n",
    "print(sorted_list)"
   ]
  },
  {
   "cell_type": "code",
   "execution_count": 16,
   "id": "3a32eee6-20d0-4af6-8cb5-2863d0f213d4",
   "metadata": {},
   "outputs": [
    {
     "data": {
      "text/plain": [
       "[1, 4, 9, 16, 25, 36, 49, 64, 81, 100]"
      ]
     },
     "execution_count": 16,
     "metadata": {},
     "output_type": "execute_result"
    }
   ],
   "source": [
    "#2\n",
    "l1=[1,2,3,4,5,6,7,8,9,10]\n",
    "list(map(lambda x:x**2,l1))"
   ]
  },
  {
   "cell_type": "code",
   "execution_count": 19,
   "id": "6a515245-8588-4ac6-959f-f05a35b8be40",
   "metadata": {},
   "outputs": [
    {
     "data": {
      "text/plain": [
       "('1', '2', '3', '4', '5', '6', '7', '8', '9', '10')"
      ]
     },
     "execution_count": 19,
     "metadata": {},
     "output_type": "execute_result"
    }
   ],
   "source": [
    "#3\n",
    "l2=[1,2,3,4,5,6,7,8,9,10]\n",
    "tuple(map(lambda x:str(x),l2))"
   ]
  },
  {
   "cell_type": "code",
   "execution_count": 27,
   "id": "cf17c58d-c141-400c-b8e2-8ecfb72ba9a9",
   "metadata": {},
   "outputs": [
    {
     "data": {
      "text/plain": [
       "15511210043330985984000000"
      ]
     },
     "execution_count": 27,
     "metadata": {},
     "output_type": "execute_result"
    }
   ],
   "source": [
    "#4\n",
    "from functools import reduce \n",
    "l3=list(range(1,26))\n",
    "pro=reduce(lambda x,y: x*y,l3)\n",
    "pro"
   ]
  },
  {
   "cell_type": "code",
   "execution_count": 43,
   "id": "6b010f28-80b8-459f-a5ab-51011c999f0b",
   "metadata": {},
   "outputs": [
    {
     "name": "stdout",
     "output_type": "stream",
     "text": [
      "[6, 60, 90, 120]\n"
     ]
    }
   ],
   "source": [
    "#5\n",
    "l4=[2, 3, 6, 9, 27, 60, 90, 120, 55, 46]\n",
    "filt=list(filter(lambda x:x%2==0 and x%3==0,l4))\n",
    "print(filt)\n"
   ]
  },
  {
   "cell_type": "code",
   "execution_count": 44,
   "id": "380ed823-6256-4c1f-b3e9-182ecda97bc1",
   "metadata": {},
   "outputs": [
    {
     "name": "stdout",
     "output_type": "stream",
     "text": [
      "['php', 'aba', 'radar', 'level']\n"
     ]
    }
   ],
   "source": [
    "#6\n",
    "p=['python', 'php', 'aba', 'radar', 'level']\n",
    "palindrome_list=list(filter(lambda x:x==x[::-1],p))\n",
    "print(palindrome_list)\n"
   ]
  },
  {
   "cell_type": "code",
   "execution_count": null,
   "id": "98ecb1d8-db66-4cc4-87dd-869b2913d417",
   "metadata": {},
   "outputs": [],
   "source": []
  }
 ],
 "metadata": {
  "kernelspec": {
   "display_name": "Python 3 (ipykernel)",
   "language": "python",
   "name": "python3"
  },
  "language_info": {
   "codemirror_mode": {
    "name": "ipython",
    "version": 3
   },
   "file_extension": ".py",
   "mimetype": "text/x-python",
   "name": "python",
   "nbconvert_exporter": "python",
   "pygments_lexer": "ipython3",
   "version": "3.10.8"
  }
 },
 "nbformat": 4,
 "nbformat_minor": 5
}
