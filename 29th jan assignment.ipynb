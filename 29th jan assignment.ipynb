{
 "cells": [
  {
   "cell_type": "markdown",
   "id": "95cc71e7-d4f9-4070-bafc-14154e401921",
   "metadata": {},
   "source": [
    "1. Guido van Rossum"
   ]
  },
  {
   "cell_type": "markdown",
   "id": "d6b4dafa-46c7-42b6-960d-382d2cfc3a48",
   "metadata": {
    "tags": []
   },
   "source": [
    "2. Object oreinted and structured programming are fully supported\n"
   ]
  },
  {
   "cell_type": "markdown",
   "id": "a6744fd1-463d-4069-9408-73094cf894b8",
   "metadata": {},
   "source": [
    "3. Yes it is case sensitive"
   ]
  },
  {
   "cell_type": "markdown",
   "id": "79a7dc78-aa86-41da-83e9-ebe056d847fd",
   "metadata": {},
   "source": [
    "4. .py is the correct extension of python file"
   ]
  },
  {
   "cell_type": "markdown",
   "id": "6c77b692-6514-4e60-a5e5-0632099236b7",
   "metadata": {},
   "source": [
    "5. python is an interpreted language"
   ]
  },
  {
   "cell_type": "markdown",
   "id": "ab433d4e-3a16-4647-aa96-ce0d868668d4",
   "metadata": {},
   "source": [
    "6. Indentation,key,brackets are used to define in python language"
   ]
  },
  {
   "cell_type": "markdown",
   "id": "4c20107c-78aa-4c59-8fb9-d23bbce80b68",
   "metadata": {},
   "source": [
    "7. '#'"
   ]
  },
  {
   "cell_type": "markdown",
   "id": "973516b8-5232-4405-a4be-da37beefd37a",
   "metadata": {
    "tags": []
   },
   "source": [
    "8. 1. sys.version\n",
    "   2. python_version()\n",
    "   3. python -v"
   ]
  },
  {
   "cell_type": "markdown",
   "id": "37a7a372-8817-4f7f-96fc-20549fd08a45",
   "metadata": {},
   "source": [
    "9. lambda function"
   ]
  },
  {
   "cell_type": "markdown",
   "id": "636740e8-2a97-4131-91c2-359b2a7d6dde",
   "metadata": {},
   "source": [
    "10. pip install for preferred installer program"
   ]
  },
  {
   "cell_type": "markdown",
   "id": "96907a99-1268-4242-b95d-3f38b92ecd81",
   "metadata": {},
   "source": [
    "11. insert(),update(),lambda(),print(),append(),extend()\n"
   ]
  },
  {
   "cell_type": "markdown",
   "id": "8bb80ffd-89d1-4558-b4d6-3cf5ce88026a",
   "metadata": {},
   "source": [
    "12. 79 character"
   ]
  },
  {
   "cell_type": "markdown",
   "id": "8347214c-b9da-4902-9180-b195493a8d2f",
   "metadata": {},
   "source": [
    "13. Benefits \n",
    "- simple to use and understand\n",
    "- Free and open source\n",
    "- productivity has increased\n",
    "- Dynamically typed\n",
    "- Extensive library"
   ]
  },
  {
   "cell_type": "markdown",
   "id": "a67f1caf-0c04-47ca-bdb3-4e979eed1671",
   "metadata": {},
   "source": [
    "14. Memory management in Python involves a private heap containing all Python objects and data structures"
   ]
  },
  {
   "cell_type": "markdown",
   "id": "f586506c-981f-414f-bd36-810af3766b69",
   "metadata": {},
   "source": [
    "15. The complete path of python.exe can be added by:\n",
    "\n",
    "- Right-clicking This PC and going to Properties.\n",
    "\n",
    "-  Clicking on the Advanced system settings in the menu on the left.\n",
    "\n",
    "-  Clicking on the Environment Variables button on the bottom right.\n",
    "\n",
    "- In the System variables section, selecting the Path variable and clicking on Edit.\n",
    "- The next screen will show all the directories that are currently a part of the PATH variable.\n",
    "-  Clicking on New and entering Python’s install directory."
   ]
  },
  {
   "cell_type": "markdown",
   "id": "1199763a-654c-4274-aea0-8692e441e9d8",
   "metadata": {},
   "source": [
    "16. Yes indentation is one of the important thing in python"
   ]
  },
  {
   "cell_type": "code",
   "execution_count": null,
   "id": "5ba2c7a9-d8ec-476c-8a8f-da97d813efff",
   "metadata": {},
   "outputs": [],
   "source": []
  }
 ],
 "metadata": {
  "kernelspec": {
   "display_name": "Python 3 (ipykernel)",
   "language": "python",
   "name": "python3"
  },
  "language_info": {
   "codemirror_mode": {
    "name": "ipython",
    "version": 3
   },
   "file_extension": ".py",
   "mimetype": "text/x-python",
   "name": "python",
   "nbconvert_exporter": "python",
   "pygments_lexer": "ipython3",
   "version": "3.10.8"
  }
 },
 "nbformat": 4,
 "nbformat_minor": 5
}
