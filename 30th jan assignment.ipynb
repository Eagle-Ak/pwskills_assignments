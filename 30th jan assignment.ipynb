{
 "cells": [
  {
   "cell_type": "code",
   "execution_count": 13,
   "id": "283a69cd-b30f-46e5-aa51-56db689ef9c6",
   "metadata": {},
   "outputs": [
    {
     "name": "stdin",
     "output_type": "stream",
     "text": [
      "enter your grade 95\n"
     ]
    },
    {
     "name": "stdout",
     "output_type": "stream",
     "text": [
      "Your grade is A\n"
     ]
    }
   ],
   "source": [
    "#1\n",
    "marks=int(input(\"enter your grade\"))\n",
    "if marks>90:\n",
    "    print(\"Your grade is A\")\n",
    "elif marks>80 and marks<=90:\n",
    "    print(\"Your grade is B\")\n",
    "elif marks>=60 and marks<=80:\n",
    "    print(\"Your grade is C\")\n",
    "else:\n",
    "    print(\"Your grade is D\")"
   ]
  },
  {
   "cell_type": "code",
   "execution_count": 9,
   "id": "acb098a2-5847-4cba-86d3-fb8f231cb1c7",
   "metadata": {},
   "outputs": [
    {
     "name": "stdin",
     "output_type": "stream",
     "text": [
      "enter the cost price of bike 150000\n"
     ]
    },
    {
     "name": "stdout",
     "output_type": "stream",
     "text": [
      "you have to pay road tax of amount 22500\n"
     ]
    }
   ],
   "source": [
    "#2 \n",
    "cost_price=int(input(\"enter the cost price of bike\"))\n",
    "if cost_price>100000:\n",
    "    print(\"you have to pay road tax of amount {}\".format(cost_price*15//100))\n",
    "if cost_price>50000 and cost_price<=100000:\n",
    "    print(\"you have to pay road tax of amount {}\".format(cost_price*10//100))\n",
    "elif cost_price<=50000:\n",
    "    print(\"you have to pay road tax of amount {}\".format(cost_price*5//100))"
   ]
  },
  {
   "cell_type": "code",
   "execution_count": 30,
   "id": "fd055535-dd93-428f-9805-ec6524241936",
   "metadata": {},
   "outputs": [
    {
     "name": "stdin",
     "output_type": "stream",
     "text": [
      "enter city name Agra\n"
     ]
    },
    {
     "name": "stdout",
     "output_type": "stream",
     "text": [
      "Agra monument is Taj Mahal\n"
     ]
    }
   ],
   "source": [
    "#3\n",
    "city=input(\"enter city name\")\n",
    "if city=='Delhi':\n",
    "    print(\"Delhi monument is Red Fort\")\n",
    "elif city=='Agra':\n",
    "    print(\"Agra monument is Taj Mahal\")\n",
    "elif city=='Jaipur':\n",
    "    print(\"Jaipur monument is Jal Mahal\")"
   ]
  },
  {
   "cell_type": "code",
   "execution_count": 33,
   "id": "b141007a-ca4d-4608-a428-cfa9017397f1",
   "metadata": {},
   "outputs": [
    {
     "name": "stdin",
     "output_type": "stream",
     "text": [
      "enter your number 40\n"
     ]
    },
    {
     "name": "stdout",
     "output_type": "stream",
     "text": [
      "3\n"
     ]
    }
   ],
   "source": [
    "#4\n",
    "num=int(input(\"enter your number\"))\n",
    "counter=0\n",
    "while num>=counter:\n",
    "    num=num/3\n",
    "    counter+=1\n",
    "print(counter)"
   ]
  },
  {
   "cell_type": "code",
   "execution_count": 4,
   "id": "d3900b49-feca-4a6c-9395-9be796e17096",
   "metadata": {},
   "outputs": [],
   "source": [
    "#5\n",
    "# With the while loop we can execute a set of statements as long as a condition is true\n",
    "# A while loop evaluates the condition\n",
    "# If the condition evaluates to True, the code inside the while loop is executed.\n",
    "# condition is evaluated again.\n",
    "# This process continues until the condition is False.\n",
    "# When condition evaluates to False, the loop stops\n",
    "# EXAMPLE:\n",
    "#     i = 1\n",
    "# while i < 6:\n",
    "#   print(i)\n",
    "#   i += 1"
   ]
  },
  {
   "cell_type": "code",
   "execution_count": 14,
   "id": "1997acc1-c6b0-47b0-989b-98987782e57d",
   "metadata": {},
   "outputs": [
    {
     "name": "stdin",
     "output_type": "stream",
     "text": [
      "enter your number 5\n"
     ]
    },
    {
     "name": "stdout",
     "output_type": "stream",
     "text": [
      "*\n",
      "**\n",
      "***\n",
      "****\n",
      "*****\n"
     ]
    }
   ],
   "source": [
    "6# pattern_1\n",
    "num=int(input(\"enter your number\"))\n",
    "i=0\n",
    "while i<num:\n",
    "    star=i+1\n",
    "    while star>0:\n",
    "        print(\"*\",end=\"\")\n",
    "        star=star-1\n",
    "    i=i+1\n",
    "    print()"
   ]
  },
  {
   "cell_type": "code",
   "execution_count": 20,
   "id": "70f2d64d-adfa-4592-b65c-3d4aa18f13f4",
   "metadata": {},
   "outputs": [
    {
     "name": "stdin",
     "output_type": "stream",
     "text": [
      "enter your number 5\n"
     ]
    },
    {
     "name": "stdout",
     "output_type": "stream",
     "text": [
      "    *\n",
      "   **\n",
      "  ***\n",
      " ****\n",
      "*****\n"
     ]
    }
   ],
   "source": [
    "6#pattern2\n",
    "num=int(input(\"enter your number\"))\n",
    "a=0\n",
    "while a<num:\n",
    "    space=num-a-1\n",
    "    while space>0:\n",
    "        print(end=\" \")\n",
    "        space=space-1\n",
    "    star=a+1\n",
    "    while star>0:\n",
    "        print(\"*\",end=\"\")\n",
    "        star=star-1\n",
    "    a=a+1\n",
    "    print()\n"
   ]
  },
  {
   "cell_type": "code",
   "execution_count": 22,
   "id": "5e884096-447f-4195-9dc2-aa7f802fa705",
   "metadata": {},
   "outputs": [
    {
     "name": "stdin",
     "output_type": "stream",
     "text": [
      "enter your number 5\n"
     ]
    },
    {
     "name": "stdout",
     "output_type": "stream",
     "text": [
      "    * \n",
      "   * * \n",
      "  * * * \n",
      " * * * * \n",
      "* * * * * \n"
     ]
    }
   ],
   "source": [
    "6#pattern3\n",
    "num=int(input(\"enter your number\"))\n",
    "x=0\n",
    "while x<num:\n",
    "    space=num-x-1\n",
    "    while space>0:\n",
    "        print(end=\" \")\n",
    "        space=space-1\n",
    "    star=x+1\n",
    "    while star>0:\n",
    "        print(\"*\",end=\" \")\n",
    "        star=star-1\n",
    "    x=x+1\n",
    "    print()"
   ]
  },
  {
   "cell_type": "code",
   "execution_count": 4,
   "id": "9380f554-b4d2-4ee9-9071-2c2604e39d2a",
   "metadata": {},
   "outputs": [
    {
     "name": "stdout",
     "output_type": "stream",
     "text": [
      "10\n",
      "9\n",
      "8\n",
      "7\n",
      "6\n",
      "5\n",
      "4\n",
      "3\n",
      "2\n",
      "1\n"
     ]
    }
   ],
   "source": [
    "#7\n",
    "i=10\n",
    "while i>=1:\n",
    "    print(i)\n",
    "    i=i-1\n",
    "    \n"
   ]
  },
  {
   "cell_type": "code",
   "execution_count": null,
   "id": "e2bcb3c2-aeb8-4023-a517-057f11464701",
   "metadata": {},
   "outputs": [],
   "source": [
    "#8\n",
    "i=10\n",
    "while i>=1:\n",
    "    print(i)\n",
    "    i=i-1\n",
    "    "
   ]
  },
  {
   "cell_type": "code",
   "execution_count": null,
   "id": "37ead455-0c61-4569-8bef-3c28475dd3d7",
   "metadata": {},
   "outputs": [],
   "source": []
  },
  {
   "cell_type": "code",
   "execution_count": null,
   "id": "ef7e8027-f62f-407a-be75-fb42f7447e1c",
   "metadata": {},
   "outputs": [],
   "source": []
  },
  {
   "cell_type": "code",
   "execution_count": null,
   "id": "5ac6caaa-2dde-46ca-a609-e6de171de6f7",
   "metadata": {},
   "outputs": [],
   "source": []
  }
 ],
 "metadata": {
  "kernelspec": {
   "display_name": "Python 3 (ipykernel)",
   "language": "python",
   "name": "python3"
  },
  "language_info": {
   "codemirror_mode": {
    "name": "ipython",
    "version": 3
   },
   "file_extension": ".py",
   "mimetype": "text/x-python",
   "name": "python",
   "nbconvert_exporter": "python",
   "pygments_lexer": "ipython3",
   "version": "3.10.8"
  }
 },
 "nbformat": 4,
 "nbformat_minor": 5
}
