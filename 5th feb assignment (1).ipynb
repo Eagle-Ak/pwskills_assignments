{
 "cells": [
  {
   "cell_type": "code",
   "execution_count": 19,
   "id": "fec7f029-2aa8-4d61-9acb-fc24abf7a8f5",
   "metadata": {},
   "outputs": [
    {
     "data": {
      "text/plain": [
       "'class student:  # Here student is a class\\n    def __init__(self,a,b):  \\n        self.a=a\\n        self.b=b\\n    def ret(self):\\n        return self.a+self.b\\nak=student(5,4) # Here ak is object,instance or variable\\nak.ret()'"
      ]
     },
     "execution_count": 19,
     "metadata": {},
     "output_type": "execute_result"
    }
   ],
   "source": [
    "# 1A)\n",
    "# 1. Class is a classification of data or a user defined data types that act as a blueprint for individual objects,attributes and methods.\n",
    "# 2. Objects are instances or variables of a class created with specifically defined data. objects can correspond to real-world objects or an abstract entity.\n",
    "# example:\n",
    "'''class student:  # Here student is a class\n",
    "    def __init__(self,a,b):  \n",
    "        self.a=a\n",
    "        self.b=b\n",
    "    def ret(self):\n",
    "        return self.a+self.b\n",
    "ak=student(5,4) # Here ak is object,instance or variable\n",
    "ak.ret()'''\n"
   ]
  },
  {
   "cell_type": "code",
   "execution_count": null,
   "id": "1ec6d1ef-44a5-47da-80a6-0267bd51f388",
   "metadata": {},
   "outputs": [],
   "source": [
    "# 2A)\n",
    "#2. Four pillars of OOPS\n",
    "# 1. Abstraction\n",
    "# 2. Encapsulation\n",
    "# 3. Inheritance\n",
    "# 4. Polymorphism"
   ]
  },
  {
   "cell_type": "code",
   "execution_count": null,
   "id": "9d1e3268-6cc2-4b00-85c2-5d9fdd677cd8",
   "metadata": {},
   "outputs": [],
   "source": [
    "# 3A)\n",
    "# 3. __init__() it is a function use to pass data into a class to perfom specific tasks using different methods or functions.\n",
    "# Example\n",
    "'''class student:  # Here student is a class\n",
    "    def __init__(self,a,b):  \n",
    "        self.a=a\n",
    "        self.b=b\n",
    "    def ret(self):\n",
    "        return self.a+self.b\n",
    "ak=student(5,4) # Here ak is object,instance or variable\n",
    "ak.ret()'''"
   ]
  },
  {
   "cell_type": "code",
   "execution_count": null,
   "id": "5347caae-1425-4f87-a5f2-3d8b15df61b2",
   "metadata": {},
   "outputs": [],
   "source": [
    "# 4A)\n",
    "# Self is use as a pointer in oops to perform methods in ordered \n",
    "# self is not a reserved keyword also we can use different names instead of self."
   ]
  },
  {
   "cell_type": "code",
   "execution_count": 4,
   "id": "a0d50a8e-daab-4273-9e0f-01ca74768352",
   "metadata": {},
   "outputs": [
    {
     "data": {
      "text/plain": [
       "\"5.Syntax_Hybrid_inheritance\\n\\n class PC: \\n \\tpass\\n\\t\\n class Laptop(PC): \\n \\tpass\\n\\t\\n class Mouse(Laptop): \\n \\tpass\\n\\t\\n class Student3(Mouse, Laptop): \\n \\tpass\\n\\t\\n Driver's code \\n obj = Student3()\""
      ]
     },
     "execution_count": 4,
     "metadata": {},
     "output_type": "execute_result"
    }
   ],
   "source": [
    "'''5A) Inheritance allows us to define a class that inherits all the methods and properties from another class.\n",
    "Parent class is the class being inherited from, also called base class. Child class is the class that inherits from another class, also called derived class.\n",
    "There are five types of inheritance in python programming:\n",
    "1). Single inheritance\n",
    "2). Multiple inheritances\n",
    "3). Multilevel inheritance\n",
    "4). Hierarchical inheritance\n",
    "5). Hybrid inheritance'''\n",
    "\n",
    "'''1. Example of single inheritance\n",
    "\n",
    "class class1:               #parent_class\n",
    "     pass\n",
    "class class2(class1):       #child_class\n",
    "     pass\n",
    "obj_name = class2()'''\n",
    "\n",
    "'''2.Example of multiple inheritance\n",
    "\n",
    "class parent_1:\n",
    "     pass\n",
    "class parent_2:\n",
    "     pass\n",
    "class child(parent_1,parent_2):\n",
    "     pass\n",
    "obj = child()'''\n",
    "\n",
    "'''3.Syntax of multilevel inheritance:\n",
    "\n",
    "class A:\n",
    "     pass\n",
    "class B(A):\n",
    "     pass\n",
    "class C(B):\n",
    "     pass\n",
    "obj = C()'''\n",
    " \n",
    "'''4. syntax_of_hierarchical_inheritance\n",
    "\n",
    "class A:                  #parent_class\n",
    "     pass\n",
    "class B(A):               #child_class\n",
    "    pass\n",
    "class C(A):               #child_class\n",
    "     pass\n",
    "class D(A):               #child_class\n",
    "     pass\n",
    "obj_1 = B()       #Object_creation\n",
    "obj_2 = C()\n",
    "obj_3 = D()'''\n",
    "\n",
    "'''5.Syntax_Hybrid_inheritance\n",
    "\n",
    "class PC: \n",
    " \tpass\n",
    "class Laptop(PC): \n",
    " \tpass\n",
    "class Mouse(Laptop): \n",
    " \tpass\n",
    "class Student3(Mouse, Laptop): \n",
    " \tpass\n",
    "Driver's code \n",
    "obj = Student3()'''"
   ]
  },
  {
   "cell_type": "code",
   "execution_count": null,
   "id": "7bd9ae68-aae1-4683-92c6-d91be93801e4",
   "metadata": {},
   "outputs": [],
   "source": []
  }
 ],
 "metadata": {
  "kernelspec": {
   "display_name": "Python 3 (ipykernel)",
   "language": "python",
   "name": "python3"
  },
  "language_info": {
   "codemirror_mode": {
    "name": "ipython",
    "version": 3
   },
   "file_extension": ".py",
   "mimetype": "text/x-python",
   "name": "python",
   "nbconvert_exporter": "python",
   "pygments_lexer": "ipython3",
   "version": "3.10.8"
  }
 },
 "nbformat": 4,
 "nbformat_minor": 5
}
